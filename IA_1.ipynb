{
 "cells": [
  {
   "cell_type": "code",
   "execution_count": 1,
   "metadata": {},
   "outputs": [
    {
     "name": "stdout",
     "output_type": "stream",
     "text": [
      "Epoch 1/5\n",
      "6000/6000 [==============================] - 36s 6ms/step - loss: 0.2147 - accuracy: 0.9341\n",
      "Epoch 2/5\n",
      "6000/6000 [==============================] - 30s 5ms/step - loss: 0.0907 - accuracy: 0.9711\n",
      "Epoch 3/5\n",
      "6000/6000 [==============================] - 29s 5ms/step - loss: 0.0627 - accuracy: 0.9808\n",
      "Epoch 4/5\n",
      "6000/6000 [==============================] - 29s 5ms/step - loss: 0.0468 - accuracy: 0.9852\n",
      "Epoch 5/5\n",
      "6000/6000 [==============================] - 27s 5ms/step - loss: 0.0360 - accuracy: 0.9883\n",
      "313/313 [==============================] - 1s 3ms/step - loss: 0.0743 - accuracy: 0.9786\n",
      "Test loss: 0.07430171966552734\n",
      "Test accuracy: 0.978600025177002\n"
     ]
    }
   ],
   "source": [
    "import tensorflow as tf\n",
    "\n",
    "mnist = tf.keras.datasets.mnist\n",
    "\n",
    "(x_train, y_train), (x_test, y_test) = mnist.load_data()\n",
    "x_train = x_train.reshape(x_train.shape[0], 784).astype('float32') / 255\n",
    "x_test = x_test.reshape(x_test.shape[0], 784).astype('float32') / 255\n",
    "\n",
    "learning_rate = 0.1\n",
    "batch_size = 10\n",
    "update_step = 10\n",
    "\n",
    "layer_1_nodes = 500\n",
    "layer_2_nodes = 500\n",
    "layer_3_nodes = 500\n",
    "output_nodes = 10\n",
    "\n",
    "model_input = tf.keras.layers.Input(shape=(784,))\n",
    "layer_1 = tf.keras.layers.Dense(layer_1_nodes, activation='relu')(model_input)\n",
    "layer_2 = tf.keras.layers.Dense(layer_2_nodes, activation='relu')(layer_1)\n",
    "layer_3 = tf.keras.layers.Dense(layer_3_nodes, activation='relu')(layer_2)\n",
    "model_output = tf.keras.layers.Dense(output_nodes, activation='softmax')(layer_3)\n",
    "\n",
    "model = tf.keras.Model(inputs=model_input, outputs=model_output)\n",
    "\n",
    "optimizer = tf.keras.optimizers.SGD(learning_rate)\n",
    "\n",
    "model.compile(optimizer=optimizer, loss='sparse_categorical_crossentropy', metrics=['accuracy'])\n",
    "\n",
    "num_epochs = 5\n",
    "model.fit(x_train, y_train, epochs=num_epochs, batch_size=batch_size)\n",
    "\n",
    "test_loss, test_accuracy = model.evaluate(x_test, y_test)\n",
    "\n",
    "print(\"Test loss:\", test_loss)\n",
    "print(\"Test accuracy:\",test_accuracy)"
   ]
  }
 ],
 "metadata": {
  "kernelspec": {
   "display_name": "Python 3",
   "language": "python",
   "name": "python3"
  },
  "language_info": {
   "codemirror_mode": {
    "name": "ipython",
    "version": 3
   },
   "file_extension": ".py",
   "mimetype": "text/x-python",
   "name": "python",
   "nbconvert_exporter": "python",
   "pygments_lexer": "ipython3",
   "version": "3.11.3"
  },
  "orig_nbformat": 4
 },
 "nbformat": 4,
 "nbformat_minor": 2
}
